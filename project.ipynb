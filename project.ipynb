{
 "cells": [
  {
   "cell_type": "code",
   "execution_count": null,
   "metadata": {},
   "outputs": [],
   "source": [
    "from csv import reader\n",
    "\n",
    "hn_posts_file = open(\"HN_posts_year_to_Sep_26_2016.csv\", encoding=\"Latin1\")\n",
    "read_file = reader(hn_posts_file)\n",
    "hn_posts = list(read_file)"
   ]
  },
  {
   "cell_type": "code",
   "execution_count": null,
   "metadata": {},
   "outputs": [],
   "source": [
    "def explore_data(dataset, start, end, rows_and_columns=False):\n",
    "    dataset_slice = dataset[start:end]\n",
    "    for row in dataset_slice:\n",
    "        print(row)\n",
    "        print(\"\\n\")\n",
    "\n",
    "    if rows_and_columns:\n",
    "        print(f\"Number of rows: {len(dataset)}\")\n",
    "        print(f\"Number of columns: {len(dataset[0])}\")"
   ]
  },
  {
   "cell_type": "code",
   "execution_count": null,
   "metadata": {},
   "outputs": [],
   "source": [
    "# Remove headers\n",
    "hn_header = hn_posts[0]\n",
    "hn_data = hn_posts[1:]"
   ]
  },
  {
   "cell_type": "code",
   "execution_count": 9,
   "metadata": {},
   "outputs": [
    {
     "name": "stdout",
     "output_type": "stream",
     "text": [
      "['id', 'title', 'url', 'num_points', 'num_comments', 'author', 'created_at']\n",
      "\n",
      "\n",
      "['12579008', 'You have two days to comment if you want stem cells to be classified as your own', 'http://www.regulations.gov/document?D=FDA-2015-D-3719-0018', '1', '0', 'altstar', '9/26/2016 3:26']\n",
      "\n",
      "\n",
      "['12579005', 'SQLAR  the SQLite Archiver', 'https://www.sqlite.org/sqlar/doc/trunk/README.md', '1', '0', 'blacksqr', '9/26/2016 3:24']\n",
      "\n",
      "\n",
      "['12578997', 'What if we just printed a flatscreen television on the side of our boxes?', 'https://medium.com/vanmoof/our-secrets-out-f21c1f03fdc8#.ietxmez43', '1', '0', 'pavel_lishin', '9/26/2016 3:19']\n",
      "\n",
      "\n",
      "Number of rows: 293119\n",
      "Number of columns: 7\n"
     ]
    }
   ],
   "source": [
    "print(hn_header)\n",
    "print(\"\\n\")\n",
    "explore_data(hn_data, 0, 3, True)"
   ]
  },
  {
   "cell_type": "code",
   "execution_count": null,
   "metadata": {},
   "outputs": [],
   "source": [
    "# Extract \"Ask HN\" and \"Show HN\" posts\n",
    "ask_hn = []\n",
    "show_hn = []\n",
    "for row in hn_data:\n",
    "    if \"ask hn\" in row[1].lower():\n",
    "        ask_hn.append(row)\n",
    "    if \"show hn\" in row[1].lower():\n",
    "        show_hn.append(row)\n",
    "\n",
    "# print(f\"Ask HN posts: \\n {ask_hn}\")\n",
    "\n",
    "# print(\"\\n\")\n",
    "\n",
    "# print(f\"Show HN posts: \\n {show_hn}\")\n",
    "        \n",
    "explore_data(ask_hn, 0, 5, True)\n",
    "\n",
    "explore_data(show_hn, 0, 5, True)"
   ]
  },
  {
   "cell_type": "code",
   "execution_count": null,
   "metadata": {},
   "outputs": [],
   "source": [
    "# Avg no. of comments for \"Ask HN\" and \"Show HN\" posts\n",
    "ask_hn_num_comments = 0\n",
    "show_hn_num_comments = 0\n",
    "\n",
    "for row in ask_hn:\n",
    "    ask_hn_num_comments += int(row[4])\n",
    "\n",
    "for row in show_hn:\n",
    "    show_hn_num_comments += int(row[4])\n",
    "\n",
    "ask_hn_avg_comments = ask_hn_num_comments / len(ask_hn)\n",
    "show_hn_avg_comments = show_hn_num_comments / len(show_hn)\n",
    "\n",
    "print(f\"Avg no. of comments for Ask HN posts: {ask_hn_avg_comments}\")\n",
    "print(f\"Avg no. of comments for Show HN posts: {show_hn_avg_comments}\")"
   ]
  },
  {
   "cell_type": "code",
   "execution_count": 11,
   "metadata": {},
   "outputs": [
    {
     "name": "stdout",
     "output_type": "stream",
     "text": [
      "No. of posts by hour: {'15': 647, '18': 614, '17': 587, '16': 580, '19': 553, '21': 518, '14': 513, '20': 511, '13': 444, '22': 383, '23': 345, '12': 342, '11': 312, '00': 301, '01': 282, '10': 282, '03': 272, '02': 269, '08': 257, '04': 243, '06': 234, '07': 226, '09': 222, '05': 210}\n",
      "No. of comments by hour: {'15': 18526, '13': 7245, '17': 5547, '14': 4972, '18': 4877, '21': 4500, '16': 4466, '20': 4463, '12': 4234, '19': 3955, '22': 3372, '10': 3013, '02': 2996, '11': 2797, '08': 2362, '04': 2360, '23': 2300, '00': 2277, '03': 2159, '01': 2089, '05': 1841, '06': 1587, '07': 1585, '09': 1477}\n"
     ]
    }
   ],
   "source": [
    "# Calculate no. of \"Ask HN\" posts and comments by hour created\n",
    "import datetime\n",
    "\n",
    "posts_by_hour = {}\n",
    "comments_by_hour = {}\n",
    "\n",
    "for row in ask_hn:\n",
    "    date = row[6]\n",
    "    num_comments = int(row[4])\n",
    "    hour = datetime.datetime.strptime(date, \"%m/%d/%Y %H:%M\").strftime(\"%H\")\n",
    "\n",
    "    if hour in posts_by_hour:\n",
    "        posts_by_hour[hour] += 1\n",
    "        comments_by_hour[hour] += num_comments\n",
    "    else:\n",
    "        posts_by_hour[hour] = 1\n",
    "        comments_by_hour[hour] = num_comments\n",
    "\n",
    "# Sort dictionaries by value in descending order\n",
    "posts_by_hour = dict(sorted(posts_by_hour.items(), key=lambda item: item[1], reverse=True))\n",
    "comments_by_hour = dict(sorted(comments_by_hour.items(), key=lambda item: item[1], reverse=True))\n",
    "\n",
    "print(f\"No. of posts by hour: {posts_by_hour}\")\n",
    "print(f\"No. of comments by hour: {comments_by_hour}\")"
   ]
  },
  {
   "cell_type": "code",
   "execution_count": 13,
   "metadata": {},
   "outputs": [
    {
     "data": {
      "text/plain": [
       "[['15', 28.633693972179287],\n",
       " ['18', 7.94299674267101],\n",
       " ['17', 9.449744463373083],\n",
       " ['16', 7.7],\n",
       " ['19', 7.151898734177215],\n",
       " ['21', 8.687258687258687],\n",
       " ['14', 9.692007797270955],\n",
       " ['20', 8.733855185909981],\n",
       " ['13', 16.31756756756757],\n",
       " ['22', 8.804177545691905],\n",
       " ['23', 6.666666666666667],\n",
       " ['12', 12.380116959064328],\n",
       " ['11', 8.96474358974359],\n",
       " ['00', 7.5647840531561465],\n",
       " ['01', 7.407801418439717],\n",
       " ['10', 10.684397163120567],\n",
       " ['03', 7.9375],\n",
       " ['02', 11.137546468401487],\n",
       " ['08', 9.190661478599221],\n",
       " ['04', 9.7119341563786],\n",
       " ['06', 6.782051282051282],\n",
       " ['07', 7.013274336283186],\n",
       " ['09', 6.653153153153153],\n",
       " ['05', 8.766666666666667]]"
      ]
     },
     "execution_count": 13,
     "metadata": {},
     "output_type": "execute_result"
    }
   ],
   "source": [
    "# Calculate avg no. of comments for \"Ask HN\" posts by hour created\n",
    "avg_by_hour = []\n",
    "\n",
    "for hour in posts_by_hour:\n",
    "    avg_by_hour.append([hour, comments_by_hour[hour] / posts_by_hour[hour]])\n",
    "\n",
    "avg_by_hour"
   ]
  },
  {
   "cell_type": "code",
   "execution_count": 22,
   "metadata": {},
   "outputs": [
    {
     "name": "stdout",
     "output_type": "stream",
     "text": [
      "15:00: 28.63 average comments per post\n",
      "13:00: 16.32 average comments per post\n",
      "12:00: 12.38 average comments per post\n",
      "02:00: 11.14 average comments per post\n",
      "10:00: 10.68 average comments per post\n",
      "04:00: 9.71 average comments per post\n",
      "14:00: 9.69 average comments per post\n",
      "17:00: 9.45 average comments per post\n",
      "08:00: 9.19 average comments per post\n",
      "11:00: 8.96 average comments per post\n",
      "22:00: 8.80 average comments per post\n",
      "05:00: 8.77 average comments per post\n",
      "20:00: 8.73 average comments per post\n",
      "21:00: 8.69 average comments per post\n",
      "18:00: 7.94 average comments per post\n",
      "03:00: 7.94 average comments per post\n",
      "16:00: 7.70 average comments per post\n",
      "00:00: 7.56 average comments per post\n",
      "01:00: 7.41 average comments per post\n",
      "19:00: 7.15 average comments per post\n",
      "07:00: 7.01 average comments per post\n",
      "06:00: 6.78 average comments per post\n",
      "23:00: 6.67 average comments per post\n",
      "09:00: 6.65 average comments per post\n"
     ]
    }
   ],
   "source": [
    "# Sort and print values from list of lists\n",
    "swap_avg_by_hour = []\n",
    "\n",
    "for row in avg_by_hour:\n",
    "    swap_avg_by_hour.append([row[1], row[0]])\n",
    "\n",
    "sorted_swap = sorted(swap_avg_by_hour, reverse=True)\n",
    "\n",
    "for avg, hour in sorted_swap:\n",
    "    print(f\"{datetime.datetime.strptime(hour, '%H').strftime('%H:%M')}: {avg:.2f} average comments per post\")"
   ]
  }
 ],
 "metadata": {
  "kernelspec": {
   "display_name": "Python 3",
   "language": "python",
   "name": "python3"
  },
  "language_info": {
   "codemirror_mode": {
    "name": "ipython",
    "version": 3
   },
   "file_extension": ".py",
   "mimetype": "text/x-python",
   "name": "python",
   "nbconvert_exporter": "python",
   "pygments_lexer": "ipython3",
   "version": "3.10.4"
  }
 },
 "nbformat": 4,
 "nbformat_minor": 2
}
